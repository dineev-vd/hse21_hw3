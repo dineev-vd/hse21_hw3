{
 "cells": [
  {
   "cell_type": "markdown",
   "metadata": {},
   "source": [
    "Устанавливаем все необходимое"
   ]
  },
  {
   "cell_type": "code",
   "execution_count": null,
   "metadata": {},
   "outputs": [],
   "source": [
    "!apt-get update\n",
    "!apt-get install hisat2\n",
    "!hisat2 --version\n",
    "\n",
    "!apt-get install sra-toolkit\n",
    "\n",
    "!java -version\n",
    "!wget https://www.bioinformatics.babraham.ac.uk/projects/fastqc/fastqc_v0.11.9.zip\n",
    "!unzip fastqc_v0.11.9.zip\n",
    "!chmod a+x FastQC/fastqc\n",
    "!./FastQC/fastqc --help\n",
    "\n",
    "!pip install HTSeq\n",
    "!htseq-count --version"
   ]
  },
  {
   "cell_type": "code",
   "execution_count": null,
   "metadata": {},
   "outputs": [],
   "source": [
    "!time wget http://83.149.211.146:23194/~ivan/data/hse_teaching/rna_seq_2021.tgz"
   ]
  },
  {
   "cell_type": "code",
   "execution_count": null,
   "metadata": {},
   "outputs": [],
   "source": [
    "!time tar -xzvf rna_seq_2021.tgz"
   ]
  },
  {
   "cell_type": "code",
   "execution_count": null,
   "metadata": {},
   "outputs": [],
   "source": [
    "!wget https://genome-idx.s3.amazonaws.com/hisat/mm10_genome.tar.gz\n",
    "!tar -xzvf mm10_genome.tar.gz"
   ]
  },
  {
   "cell_type": "code",
   "execution_count": null,
   "metadata": {},
   "outputs": [],
   "source": [
    "!wget http://ftp.ebi.ac.uk/pub/databases/gencode/Gencode_mouse/release_M25/gencode.vM25.annotation.gtf.gz\n",
    "!gzip -d gencode.vM25.annotation.gtf.gz"
   ]
  },
  {
   "cell_type": "markdown",
   "metadata": {},
   "source": [
    "## Основная часть\n",
    "\n",
    "Сначала объявляю массив имен файлов, которые нужно анализировать"
   ]
  },
  {
   "cell_type": "code",
   "execution_count": 2,
   "metadata": {},
   "outputs": [],
   "source": [
    "files = [\"SRR3414629\", \"SRR3414630\", \"SRR3414631\", \"SRR3414635\", \"SRR3414636\", \"SRR3414637\"]"
   ]
  },
  {
   "cell_type": "markdown",
   "metadata": {},
   "source": [
    "Удобно совместить bash и Python, чтобы в цикле выполнить нужные операции"
   ]
  },
  {
   "cell_type": "code",
   "execution_count": 2,
   "metadata": {},
   "outputs": [],
   "source": [
    "def process(file):\n",
    "    !./FastQC/fastqc  ./rna_seq_2021/{file}.fastq\n",
    "    !time hisat2 -p 3 -x mm10/genome -U ./rna_seq_2021/{file}.fastq -S {file}.sam  2>  {file}.hisat\n",
    "    !cat {file}.hisat\n",
    "    !grep -P '^@|NH:i:1$' {file}.sam > {file}.uniq.sam\n",
    "\n",
    "    !rm -v {file}.sam\n",
    "    !time htseq-count --format=sam --stranded=no {file}.uniq.sam  gencode.vM25.annotation.gtf > {file}.counts"
   ]
  },
  {
   "cell_type": "code",
   "execution_count": null,
   "metadata": {},
   "outputs": [],
   "source": [
    "for f in files:\n",
    "    process(f+\"_1\")"
   ]
  },
  {
   "cell_type": "markdown",
   "metadata": {},
   "source": [
    "Вытащим статистику из файлов и вычислим кол-во попавших на гены картирований "
   ]
  },
  {
   "cell_type": "code",
   "execution_count": 16,
   "metadata": {},
   "outputs": [],
   "source": [
    "uc_arr = []\n",
    "counts_arr = []\n",
    "\n",
    "def get_stats(file):\n",
    "    uc = !grep -v '^@' {file}.uniq.sam | wc -l\n",
    "    counts = !grep '^__' {file}.counts\n",
    "\n",
    "    uc_arr.append(uc)\n",
    "    counts_arr.append(counts)\n",
    "\n",
    "for f in files:\n",
    "    get_stats(f + \"_1\")"
   ]
  },
  {
   "cell_type": "markdown",
   "metadata": {},
   "source": [
    "Для этих значений составил промежуточную таблицу, более простые (общее кол-во уникальных/нет, проценты и т.д. перенес руками в отчет)"
   ]
  },
  {
   "cell_type": "code",
   "execution_count": 26,
   "metadata": {},
   "outputs": [
    {
     "data": {
      "text/html": [
       "<div>\n",
       "<style scoped>\n",
       "    .dataframe tbody tr th:only-of-type {\n",
       "        vertical-align: middle;\n",
       "    }\n",
       "\n",
       "    .dataframe tbody tr th {\n",
       "        vertical-align: top;\n",
       "    }\n",
       "\n",
       "    .dataframe thead th {\n",
       "        text-align: right;\n",
       "    }\n",
       "</style>\n",
       "<table border=\"1\" class=\"dataframe\">\n",
       "  <thead>\n",
       "    <tr style=\"text-align: right;\">\n",
       "      <th></th>\n",
       "      <th>id</th>\n",
       "      <th>unique</th>\n",
       "      <th>no_feature</th>\n",
       "      <th>ambiguous</th>\n",
       "      <th>hit</th>\n",
       "    </tr>\n",
       "  </thead>\n",
       "  <tbody>\n",
       "    <tr>\n",
       "      <th>0</th>\n",
       "      <td>SRR3414629</td>\n",
       "      <td>18375888</td>\n",
       "      <td>1604107</td>\n",
       "      <td>722172</td>\n",
       "      <td>16049609</td>\n",
       "    </tr>\n",
       "    <tr>\n",
       "      <th>1</th>\n",
       "      <td>SRR3414630</td>\n",
       "      <td>13186139</td>\n",
       "      <td>1240295</td>\n",
       "      <td>480520</td>\n",
       "      <td>11465324</td>\n",
       "    </tr>\n",
       "    <tr>\n",
       "      <th>2</th>\n",
       "      <td>SRR3414631</td>\n",
       "      <td>20928945</td>\n",
       "      <td>1700354</td>\n",
       "      <td>819740</td>\n",
       "      <td>18408851</td>\n",
       "    </tr>\n",
       "    <tr>\n",
       "      <th>3</th>\n",
       "      <td>SRR3414635</td>\n",
       "      <td>18428317</td>\n",
       "      <td>1392186</td>\n",
       "      <td>760134</td>\n",
       "      <td>16275997</td>\n",
       "    </tr>\n",
       "    <tr>\n",
       "      <th>4</th>\n",
       "      <td>SRR3414636</td>\n",
       "      <td>17825380</td>\n",
       "      <td>1332692</td>\n",
       "      <td>735108</td>\n",
       "      <td>15757580</td>\n",
       "    </tr>\n",
       "    <tr>\n",
       "      <th>5</th>\n",
       "      <td>SRR3414637</td>\n",
       "      <td>17844858</td>\n",
       "      <td>1397650</td>\n",
       "      <td>710230</td>\n",
       "      <td>15736978</td>\n",
       "    </tr>\n",
       "  </tbody>\n",
       "</table>\n",
       "</div>"
      ],
      "text/plain": [
       "           id    unique no_feature ambiguous       hit\n",
       "0  SRR3414629  18375888    1604107    722172  16049609\n",
       "1  SRR3414630  13186139    1240295    480520  11465324\n",
       "2  SRR3414631  20928945    1700354    819740  18408851\n",
       "3  SRR3414635  18428317    1392186    760134  16275997\n",
       "4  SRR3414636  17825380    1332692    735108  15757580\n",
       "5  SRR3414637  17844858    1397650    710230  15736978"
      ]
     },
     "execution_count": 26,
     "metadata": {},
     "output_type": "execute_result"
    }
   ],
   "source": [
    "counts_arr_mod = np.array([[y.split('\\t')[1] for y in x] for x in counts_arr])[:, :2]\n",
    "final_array = np.append(uc_arr, counts_arr_mod, axis=1).astype(np.int32)\n",
    "hit_array = final_array[:, :1] - final_array[:, 1:2] - final_array[:, 2:3]\n",
    "final_array = np.append(final_array, hit_array, axis=1)\n",
    "final_array = np.append(np.array(files)[np.newaxis].T, final_array, axis=1)\n",
    "hit_df = pd.DataFrame(final_array, columns=[\"id\", \"unique\", \"no_feature\", \"ambiguous\", \"hit\"])\n",
    "hit_df\n"
   ]
  },
  {
   "cell_type": "code",
   "execution_count": 8,
   "metadata": {},
   "outputs": [
    {
     "data": {
      "text/html": [
       "<div>\n",
       "<style scoped>\n",
       "    .dataframe tbody tr th:only-of-type {\n",
       "        vertical-align: middle;\n",
       "    }\n",
       "\n",
       "    .dataframe tbody tr th {\n",
       "        vertical-align: top;\n",
       "    }\n",
       "\n",
       "    .dataframe thead th {\n",
       "        text-align: right;\n",
       "    }\n",
       "</style>\n",
       "<table border=\"1\" class=\"dataframe\">\n",
       "  <thead>\n",
       "    <tr style=\"text-align: right;\">\n",
       "      <th></th>\n",
       "      <th>c1</th>\n",
       "      <th>c2</th>\n",
       "      <th>c3</th>\n",
       "      <th>r1</th>\n",
       "      <th>r2</th>\n",
       "      <th>r3</th>\n",
       "    </tr>\n",
       "    <tr>\n",
       "      <th>geneID</th>\n",
       "      <th></th>\n",
       "      <th></th>\n",
       "      <th></th>\n",
       "      <th></th>\n",
       "      <th></th>\n",
       "      <th></th>\n",
       "    </tr>\n",
       "  </thead>\n",
       "  <tbody>\n",
       "    <tr>\n",
       "      <th>ENSMUSG00000000001.4</th>\n",
       "      <td>4489</td>\n",
       "      <td>3919</td>\n",
       "      <td>5700</td>\n",
       "      <td>3431</td>\n",
       "      <td>3504</td>\n",
       "      <td>4031</td>\n",
       "    </tr>\n",
       "    <tr>\n",
       "      <th>ENSMUSG00000000003.15</th>\n",
       "      <td>0</td>\n",
       "      <td>0</td>\n",
       "      <td>0</td>\n",
       "      <td>0</td>\n",
       "      <td>0</td>\n",
       "      <td>0</td>\n",
       "    </tr>\n",
       "    <tr>\n",
       "      <th>ENSMUSG00000000028.15</th>\n",
       "      <td>345</td>\n",
       "      <td>273</td>\n",
       "      <td>468</td>\n",
       "      <td>150</td>\n",
       "      <td>136</td>\n",
       "      <td>152</td>\n",
       "    </tr>\n",
       "    <tr>\n",
       "      <th>ENSMUSG00000000031.16</th>\n",
       "      <td>64504</td>\n",
       "      <td>33249</td>\n",
       "      <td>64992</td>\n",
       "      <td>55526</td>\n",
       "      <td>48225</td>\n",
       "      <td>56064</td>\n",
       "    </tr>\n",
       "    <tr>\n",
       "      <th>ENSMUSG00000000037.17</th>\n",
       "      <td>77</td>\n",
       "      <td>68</td>\n",
       "      <td>87</td>\n",
       "      <td>41</td>\n",
       "      <td>44</td>\n",
       "      <td>52</td>\n",
       "    </tr>\n",
       "  </tbody>\n",
       "</table>\n",
       "</div>"
      ],
      "text/plain": [
       "                          c1     c2     c3     r1     r2     r3\n",
       "geneID                                                         \n",
       "ENSMUSG00000000001.4    4489   3919   5700   3431   3504   4031\n",
       "ENSMUSG00000000003.15      0      0      0      0      0      0\n",
       "ENSMUSG00000000028.15    345    273    468    150    136    152\n",
       "ENSMUSG00000000031.16  64504  33249  64992  55526  48225  56064\n",
       "ENSMUSG00000000037.17     77     68     87     41     44     52"
      ]
     },
     "execution_count": 8,
     "metadata": {},
     "output_type": "execute_result"
    }
   ],
   "source": [
    "import pandas as pd\n",
    "\n",
    "allcounts = pd.read_csv(files[0] + \"_1\" + \".counts\", sep='\\t', names=['id', f'{files[0]}'])\n",
    "\n",
    "for f in files[1:]:\n",
    "    add = pd.read_csv(f + \"_1\" + \".counts\", sep='\\t', names=['id', f'{f}'])\n",
    "    allcounts = allcounts.merge(add, how=\"left\", on=\"id\")\n",
    "\n",
    "allcounts.columns = ['id', 'c1', 'c2', 'c3', 'r1', 'r2', 'r3']\n",
    "allcounts.set_index('id', inplace=True)\n",
    "allcounts.index.name = \"geneID\"\n",
    "allcounts.head()"
   ]
  },
  {
   "cell_type": "code",
   "execution_count": 9,
   "metadata": {},
   "outputs": [],
   "source": [
    "writer = open(\"ALL.counts\", \"w\")\n",
    "writer.write(allcounts.to_csv(sep='\\t'))\n",
    "writer.close()"
   ]
  },
  {
   "cell_type": "code",
   "execution_count": 10,
   "metadata": {},
   "outputs": [
    {
     "data": {
      "text/html": [
       "<div>\n",
       "<style scoped>\n",
       "    .dataframe tbody tr th:only-of-type {\n",
       "        vertical-align: middle;\n",
       "    }\n",
       "\n",
       "    .dataframe tbody tr th {\n",
       "        vertical-align: top;\n",
       "    }\n",
       "\n",
       "    .dataframe thead th {\n",
       "        text-align: right;\n",
       "    }\n",
       "</style>\n",
       "<table border=\"1\" class=\"dataframe\">\n",
       "  <thead>\n",
       "    <tr style=\"text-align: right;\">\n",
       "      <th></th>\n",
       "      <th>id</th>\n",
       "      <th>condition</th>\n",
       "    </tr>\n",
       "    <tr>\n",
       "      <th>sample</th>\n",
       "      <th></th>\n",
       "      <th></th>\n",
       "    </tr>\n",
       "  </thead>\n",
       "  <tbody>\n",
       "    <tr>\n",
       "      <th>c1</th>\n",
       "      <td>SRR3414629</td>\n",
       "      <td>control</td>\n",
       "    </tr>\n",
       "    <tr>\n",
       "      <th>c2</th>\n",
       "      <td>SRR3414630</td>\n",
       "      <td>control</td>\n",
       "    </tr>\n",
       "    <tr>\n",
       "      <th>c3</th>\n",
       "      <td>SRR3414631</td>\n",
       "      <td>control</td>\n",
       "    </tr>\n",
       "    <tr>\n",
       "      <th>r1</th>\n",
       "      <td>SRR3414635</td>\n",
       "      <td>reprogramming</td>\n",
       "    </tr>\n",
       "    <tr>\n",
       "      <th>r2</th>\n",
       "      <td>SRR3414636</td>\n",
       "      <td>reprogramming</td>\n",
       "    </tr>\n",
       "    <tr>\n",
       "      <th>r3</th>\n",
       "      <td>SRR3414637</td>\n",
       "      <td>reprogramming</td>\n",
       "    </tr>\n",
       "  </tbody>\n",
       "</table>\n",
       "</div>"
      ],
      "text/plain": [
       "                id      condition\n",
       "sample                           \n",
       "c1      SRR3414629        control\n",
       "c2      SRR3414630        control\n",
       "c3      SRR3414631        control\n",
       "r1      SRR3414635  reprogramming\n",
       "r2      SRR3414636  reprogramming\n",
       "r3      SRR3414637  reprogramming"
      ]
     },
     "execution_count": 10,
     "metadata": {},
     "output_type": "execute_result"
    }
   ],
   "source": [
    "import numpy as np\n",
    "\n",
    "allinfo_arr = np.array([allcounts.columns, \n",
    "files, ['control' if i < 3 else 'reprogramming' for i in range(6)]])\n",
    "allinfo_arr = np.transpose(allinfo_arr)\n",
    "allinfo = pd.DataFrame(allinfo_arr, columns=['index','id','condition'])\n",
    "allinfo.set_index('index', inplace=True)\n",
    "allinfo.index.name = 'sample'\n",
    "allinfo"
   ]
  },
  {
   "cell_type": "code",
   "execution_count": 14,
   "metadata": {},
   "outputs": [],
   "source": [
    "writer = open(\"ALL.info\", \"w\")\n",
    "writer.write(allinfo.to_csv(sep='\\t'))\n",
    "writer.close()"
   ]
  }
 ],
 "metadata": {
  "interpreter": {
   "hash": "df62ad24eff0530acc90b19894bcb0ef80d7bc66c6db56ca884cda74d7982c4d"
  },
  "kernelspec": {
   "display_name": "Python 3.8.8 64-bit ('base': conda)",
   "language": "python",
   "name": "python3"
  },
  "language_info": {
   "codemirror_mode": {
    "name": "ipython",
    "version": 3
   },
   "file_extension": ".py",
   "mimetype": "text/x-python",
   "name": "python",
   "nbconvert_exporter": "python",
   "pygments_lexer": "ipython3",
   "version": "3.8.8"
  },
  "orig_nbformat": 4
 },
 "nbformat": 4,
 "nbformat_minor": 2
}
